{
 "cells": [
  {
   "cell_type": "code",
   "execution_count": 1,
   "metadata": {},
   "outputs": [
    {
     "data": {
      "application/javascript": [
       "\n",
       "            setTimeout(function() {\n",
       "                var nbb_cell_id = 1;\n",
       "                var nbb_formatted_code = \"import pandas as pd\\nimport numpy as np\\nfrom matplotlib import pyplot as plt\\nfrom sklearn import preprocessing as pre\\nfrom scipy.sparse import csr_matrix\\nimport scipy as sp\\nfrom tqdm import tqdm_notebook as tqdm\\nfrom nltk.corpus import stopwords\\nfrom pymystem3 import Mystem\\nfrom string import punctuation\\n\\n%load_ext nb_black\\n%matplotlib inline\";\n",
       "                var nbb_cells = Jupyter.notebook.get_cells();\n",
       "                for (var i = 0; i < nbb_cells.length; ++i) {\n",
       "                    if (nbb_cells[i].input_prompt_number == nbb_cell_id) {\n",
       "                        nbb_cells[i].set_text(nbb_formatted_code);\n",
       "                        break;\n",
       "                    }\n",
       "                }\n",
       "            }, 500);\n",
       "            "
      ],
      "text/plain": [
       "<IPython.core.display.Javascript object>"
      ]
     },
     "metadata": {},
     "output_type": "display_data"
    }
   ],
   "source": [
    "import pandas as pd\n",
    "import numpy as np\n",
    "from matplotlib import pyplot as plt\n",
    "from sklearn import preprocessing as pre\n",
    "from scipy.sparse import csr_matrix\n",
    "import scipy as sp\n",
    "from tqdm import tqdm_notebook as tqdm\n",
    "from nltk.corpus import stopwords\n",
    "from pymystem3 import Mystem\n",
    "from string import punctuation\n",
    "\n",
    "%load_ext nb_black\n",
    "%matplotlib inline"
   ]
  },
  {
   "cell_type": "code",
   "execution_count": 2,
   "metadata": {},
   "outputs": [
    {
     "data": {
      "text/html": [
       "<div>\n",
       "<style scoped>\n",
       "    .dataframe tbody tr th:only-of-type {\n",
       "        vertical-align: middle;\n",
       "    }\n",
       "\n",
       "    .dataframe tbody tr th {\n",
       "        vertical-align: top;\n",
       "    }\n",
       "\n",
       "    .dataframe thead th {\n",
       "        text-align: right;\n",
       "    }\n",
       "</style>\n",
       "<table border=\"1\" class=\"dataframe\">\n",
       "  <thead>\n",
       "    <tr style=\"text-align: right;\">\n",
       "      <th></th>\n",
       "      <th>title</th>\n",
       "      <th>description</th>\n",
       "      <th>price</th>\n",
       "      <th>category_id</th>\n",
       "    </tr>\n",
       "    <tr>\n",
       "      <th>item_id</th>\n",
       "      <th></th>\n",
       "      <th></th>\n",
       "      <th></th>\n",
       "      <th></th>\n",
       "    </tr>\n",
       "  </thead>\n",
       "  <tbody>\n",
       "    <tr>\n",
       "      <th>0</th>\n",
       "      <td>Картина</td>\n",
       "      <td>Гобелен. Размеры 139х84см.</td>\n",
       "      <td>1000.0</td>\n",
       "      <td>19</td>\n",
       "    </tr>\n",
       "    <tr>\n",
       "      <th>1</th>\n",
       "      <td>Стулья из прессованной кожи</td>\n",
       "      <td>Продам недорого 4 стула из светлой прессованно...</td>\n",
       "      <td>1250.0</td>\n",
       "      <td>22</td>\n",
       "    </tr>\n",
       "    <tr>\n",
       "      <th>2</th>\n",
       "      <td>Домашняя мини баня</td>\n",
       "      <td>Мини баня МБ-1(мини сауна), предназначена для ...</td>\n",
       "      <td>13000.0</td>\n",
       "      <td>37</td>\n",
       "    </tr>\n",
       "    <tr>\n",
       "      <th>3</th>\n",
       "      <td>Эксклюзивная коллекция книг \"Трансаэро\" + подарок</td>\n",
       "      <td>Продам эксклюзивную коллекцию книг, выпущенную...</td>\n",
       "      <td>4000.0</td>\n",
       "      <td>43</td>\n",
       "    </tr>\n",
       "    <tr>\n",
       "      <th>4</th>\n",
       "      <td>Ноутбук aser</td>\n",
       "      <td>Продаётся ноутбук ACER e5-511C2TA. Куплен в ко...</td>\n",
       "      <td>19000.0</td>\n",
       "      <td>1</td>\n",
       "    </tr>\n",
       "  </tbody>\n",
       "</table>\n",
       "</div>"
      ],
      "text/plain": [
       "                                                     title  \\\n",
       "item_id                                                      \n",
       "0                                                  Картина   \n",
       "1                              Стулья из прессованной кожи   \n",
       "2                                       Домашняя мини баня   \n",
       "3        Эксклюзивная коллекция книг \"Трансаэро\" + подарок   \n",
       "4                                             Ноутбук aser   \n",
       "\n",
       "                                               description    price  \\\n",
       "item_id                                                               \n",
       "0                               Гобелен. Размеры 139х84см.   1000.0   \n",
       "1        Продам недорого 4 стула из светлой прессованно...   1250.0   \n",
       "2        Мини баня МБ-1(мини сауна), предназначена для ...  13000.0   \n",
       "3        Продам эксклюзивную коллекцию книг, выпущенную...   4000.0   \n",
       "4        Продаётся ноутбук ACER e5-511C2TA. Куплен в ко...  19000.0   \n",
       "\n",
       "         category_id  \n",
       "item_id               \n",
       "0                 19  \n",
       "1                 22  \n",
       "2                 37  \n",
       "3                 43  \n",
       "4                  1  "
      ]
     },
     "execution_count": 2,
     "metadata": {},
     "output_type": "execute_result"
    },
    {
     "data": {
      "application/javascript": [
       "\n",
       "            setTimeout(function() {\n",
       "                var nbb_cell_id = 2;\n",
       "                var nbb_formatted_code = \"df_train = pd.read_csv(\\\"train.csv\\\").set_index(\\\"item_id\\\")\\ndf_test = pd.read_csv(\\\"test.csv\\\").set_index(\\\"item_id\\\")\\ndf_category = pd.read_csv(\\\"category.csv\\\")\\ndf_train.head(5)\";\n",
       "                var nbb_cells = Jupyter.notebook.get_cells();\n",
       "                for (var i = 0; i < nbb_cells.length; ++i) {\n",
       "                    if (nbb_cells[i].input_prompt_number == nbb_cell_id) {\n",
       "                        nbb_cells[i].set_text(nbb_formatted_code);\n",
       "                        break;\n",
       "                    }\n",
       "                }\n",
       "            }, 500);\n",
       "            "
      ],
      "text/plain": [
       "<IPython.core.display.Javascript object>"
      ]
     },
     "metadata": {},
     "output_type": "display_data"
    }
   ],
   "source": [
    "df_train = pd.read_csv(\"train.csv\").set_index(\"item_id\")\n",
    "df_test = pd.read_csv(\"test.csv\").set_index(\"item_id\")\n",
    "df_category = pd.read_csv(\"category.csv\")\n",
    "df_train.head(5)"
   ]
  },
  {
   "cell_type": "code",
   "execution_count": 25,
   "metadata": {},
   "outputs": [
    {
     "data": {
      "application/javascript": [
       "\n",
       "            setTimeout(function() {\n",
       "                var nbb_cell_id = 25;\n",
       "                var nbb_formatted_code = \"y = df_train.category_id\\n\\nX_train_title = df_train.title\\nX_train_desc = df_train.description\\nX_train_num = pre.normalize(pre.scale(df_train.price.values.reshape(-1, 1)))\\n\\nX_test_title = df_test.title\\nX_test_desc = df_test.description\\nX_test_num = pre.normalize(pre.scale(df_test.price.values.reshape(-1, 1)))\";\n",
       "                var nbb_cells = Jupyter.notebook.get_cells();\n",
       "                for (var i = 0; i < nbb_cells.length; ++i) {\n",
       "                    if (nbb_cells[i].input_prompt_number == nbb_cell_id) {\n",
       "                        nbb_cells[i].set_text(nbb_formatted_code);\n",
       "                        break;\n",
       "                    }\n",
       "                }\n",
       "            }, 500);\n",
       "            "
      ],
      "text/plain": [
       "<IPython.core.display.Javascript object>"
      ]
     },
     "metadata": {},
     "output_type": "display_data"
    }
   ],
   "source": [
    "y = df_train.category_id\n",
    "\n",
    "X_train_title = df_train.title\n",
    "X_train_desc = df_train.description\n",
    "X_train_num = pre.normalize(pre.scale(df_train.price.values.reshape(-1, 1)))\n",
    "\n",
    "X_test_title = df_test.title\n",
    "X_test_desc = df_test.description\n",
    "X_test_num = pre.normalize(pre.scale(df_test.price.values.reshape(-1, 1)))"
   ]
  },
  {
   "cell_type": "code",
   "execution_count": 6,
   "metadata": {},
   "outputs": [
    {
     "data": {
      "application/javascript": [
       "\n",
       "            setTimeout(function() {\n",
       "                var nbb_cell_id = 6;\n",
       "                var nbb_formatted_code = \"mystem = Mystem()\\nrussian_stopwords = stopwords.words(\\\"russian\\\")\\n\\n\\ndef preprocess_text(text):\\n    temp = []\\n    for i in text:\\n        tokens = mystem.lemmatize(str(i.lower()))\\n        tokens = [\\n            token\\n            for token in tokens\\n            if token not in russian_stopwords\\n            and token != \\\" \\\"\\n            and token.strip() not in punctuation\\n        ]\\n\\n        i = \\\" \\\".join(tokens)\\n        temp.append(i)\\n    return temp\";\n",
       "                var nbb_cells = Jupyter.notebook.get_cells();\n",
       "                for (var i = 0; i < nbb_cells.length; ++i) {\n",
       "                    if (nbb_cells[i].input_prompt_number == nbb_cell_id) {\n",
       "                        nbb_cells[i].set_text(nbb_formatted_code);\n",
       "                        break;\n",
       "                    }\n",
       "                }\n",
       "            }, 500);\n",
       "            "
      ],
      "text/plain": [
       "<IPython.core.display.Javascript object>"
      ]
     },
     "metadata": {},
     "output_type": "display_data"
    }
   ],
   "source": [
    "mystem = Mystem()\n",
    "russian_stopwords = stopwords.words(\"russian\")\n",
    "\n",
    "\n",
    "def preprocess_text(text):\n",
    "    temp = []\n",
    "    for i in text:\n",
    "        tokens = mystem.lemmatize(str(i.lower()))\n",
    "        tokens = [\n",
    "            token\n",
    "            for token in tokens\n",
    "            if token not in russian_stopwords\n",
    "            and token != \" \"\n",
    "            and token.strip() not in punctuation\n",
    "        ]\n",
    "\n",
    "        i = \" \".join(tokens)\n",
    "        temp.append(i)\n",
    "    return temp"
   ]
  },
  {
   "cell_type": "code",
   "execution_count": 7,
   "metadata": {},
   "outputs": [
    {
     "data": {
      "application/vnd.jupyter.widget-view+json": {
       "model_id": "c4c5be6129ee449f9a251b976a7c7c58",
       "version_major": 2,
       "version_minor": 0
      },
      "text/plain": [
       "HBox(children=(IntProgress(value=0, max=489517), HTML(value='')))"
      ]
     },
     "metadata": {},
     "output_type": "display_data"
    },
    {
     "name": "stdout",
     "output_type": "stream",
     "text": [
      "\n"
     ]
    },
    {
     "data": {
      "application/vnd.jupyter.widget-view+json": {
       "model_id": "9a12c2deca8745f3991d49a9ffb8c742",
       "version_major": 2,
       "version_minor": 0
      },
      "text/plain": [
       "HBox(children=(IntProgress(value=0, max=489517), HTML(value='')))"
      ]
     },
     "metadata": {},
     "output_type": "display_data"
    },
    {
     "name": "stdout",
     "output_type": "stream",
     "text": [
      "\n"
     ]
    },
    {
     "data": {
      "application/vnd.jupyter.widget-view+json": {
       "model_id": "63fee929b3d549e78d8fc8e0aec5bf3d",
       "version_major": 2,
       "version_minor": 0
      },
      "text/plain": [
       "HBox(children=(IntProgress(value=0, max=243166), HTML(value='')))"
      ]
     },
     "metadata": {},
     "output_type": "display_data"
    },
    {
     "name": "stdout",
     "output_type": "stream",
     "text": [
      "\n"
     ]
    },
    {
     "data": {
      "application/vnd.jupyter.widget-view+json": {
       "model_id": "d6809401e845439d9a2aad9ca87cd739",
       "version_major": 2,
       "version_minor": 0
      },
      "text/plain": [
       "HBox(children=(IntProgress(value=0, max=243166), HTML(value='')))"
      ]
     },
     "metadata": {},
     "output_type": "display_data"
    },
    {
     "name": "stdout",
     "output_type": "stream",
     "text": [
      "\n",
      "CPU times: user 6min 18s, sys: 33.2 s, total: 6min 51s\n",
      "Wall time: 34min 58s\n"
     ]
    },
    {
     "data": {
      "application/javascript": [
       "\n",
       "            setTimeout(function() {\n",
       "                var nbb_cell_id = 7;\n",
       "                var nbb_formatted_code = \"%%time\\ntrain_clean_title = preprocess_text(tqdm(X_train_title))\\ntrain_clean_desc = preprocess_text(tqdm(X_train_desc))\\ntest_clean_title = preprocess_text(tqdm(X_test_title))\\ntest_clean_desc = preprocess_text(tqdm(X_test_desc))\";\n",
       "                var nbb_cells = Jupyter.notebook.get_cells();\n",
       "                for (var i = 0; i < nbb_cells.length; ++i) {\n",
       "                    if (nbb_cells[i].input_prompt_number == nbb_cell_id) {\n",
       "                        nbb_cells[i].set_text(nbb_formatted_code);\n",
       "                        break;\n",
       "                    }\n",
       "                }\n",
       "            }, 500);\n",
       "            "
      ],
      "text/plain": [
       "<IPython.core.display.Javascript object>"
      ]
     },
     "metadata": {},
     "output_type": "display_data"
    }
   ],
   "source": [
    "%%time\n",
    "train_clean_title = preprocess_text(tqdm(X_train_title))\n",
    "train_clean_desc = preprocess_text(tqdm(X_train_desc))\n",
    "test_clean_title = preprocess_text(tqdm(X_test_title))\n",
    "test_clean_desc = preprocess_text(tqdm(X_test_desc))"
   ]
  },
  {
   "cell_type": "code",
   "execution_count": 8,
   "metadata": {},
   "outputs": [
    {
     "data": {
      "application/javascript": [
       "\n",
       "            setTimeout(function() {\n",
       "                var nbb_cell_id = 8;\n",
       "                var nbb_formatted_code = \"from sklearn.feature_extraction.text import (\\n    TfidfTransformer,\\n    CountVectorizer,\\n    TfidfVectorizer,\\n)\\nfrom sklearn.linear_model import SGDClassifier, LogisticRegression, SGDRegressor\\nfrom sklearn.svm import LinearSVC\\nfrom sklearn.naive_bayes import MultinomialNB\\nfrom sklearn.pipeline import Pipeline\\nfrom sklearn.metrics import accuracy_score\\nfrom sklearn.model_selection import train_test_split, cross_val_score\";\n",
       "                var nbb_cells = Jupyter.notebook.get_cells();\n",
       "                for (var i = 0; i < nbb_cells.length; ++i) {\n",
       "                    if (nbb_cells[i].input_prompt_number == nbb_cell_id) {\n",
       "                        nbb_cells[i].set_text(nbb_formatted_code);\n",
       "                        break;\n",
       "                    }\n",
       "                }\n",
       "            }, 500);\n",
       "            "
      ],
      "text/plain": [
       "<IPython.core.display.Javascript object>"
      ]
     },
     "metadata": {},
     "output_type": "display_data"
    }
   ],
   "source": [
    "from sklearn.feature_extraction.text import (\n",
    "    TfidfTransformer,\n",
    "    CountVectorizer,\n",
    "    TfidfVectorizer,\n",
    ")\n",
    "from sklearn.linear_model import SGDClassifier, LogisticRegression, SGDRegressor\n",
    "from sklearn.svm import LinearSVC\n",
    "from sklearn.naive_bayes import MultinomialNB\n",
    "from sklearn.pipeline import Pipeline\n",
    "from sklearn.metrics import accuracy_score\n",
    "from sklearn.model_selection import train_test_split, cross_val_score"
   ]
  },
  {
   "cell_type": "code",
   "execution_count": 29,
   "metadata": {},
   "outputs": [
    {
     "data": {
      "application/javascript": [
       "\n",
       "            setTimeout(function() {\n",
       "                var nbb_cell_id = 29;\n",
       "                var nbb_formatted_code = \"vectorize_pipeline = Pipeline(\\n    [(\\\"vectorizer\\\", TfidfVectorizer()), (\\\"transformer\\\", TfidfTransformer())]\\n)\";\n",
       "                var nbb_cells = Jupyter.notebook.get_cells();\n",
       "                for (var i = 0; i < nbb_cells.length; ++i) {\n",
       "                    if (nbb_cells[i].input_prompt_number == nbb_cell_id) {\n",
       "                        nbb_cells[i].set_text(nbb_formatted_code);\n",
       "                        break;\n",
       "                    }\n",
       "                }\n",
       "            }, 500);\n",
       "            "
      ],
      "text/plain": [
       "<IPython.core.display.Javascript object>"
      ]
     },
     "metadata": {},
     "output_type": "display_data"
    }
   ],
   "source": [
    "vectorize_pipeline = Pipeline(\n",
    "    [(\"vectorizer\", TfidfVectorizer()), (\"transformer\", TfidfTransformer())]\n",
    ")"
   ]
  },
  {
   "cell_type": "code",
   "execution_count": 30,
   "metadata": {},
   "outputs": [
    {
     "data": {
      "application/javascript": [
       "\n",
       "            setTimeout(function() {\n",
       "                var nbb_cell_id = 30;\n",
       "                var nbb_formatted_code = \"train_vec_title = vectorize_pipeline.fit_transform(train_clean_title)\\ntrain_vec_desc = vectorize_pipeline.transform(train_clean_desc)\\n\\ntest_vec_title = vectorize_pipeline.transform(test_clean_title)\\ntest_vec_desc = vectorize_pipeline.transform(test_clean_desc)\";\n",
       "                var nbb_cells = Jupyter.notebook.get_cells();\n",
       "                for (var i = 0; i < nbb_cells.length; ++i) {\n",
       "                    if (nbb_cells[i].input_prompt_number == nbb_cell_id) {\n",
       "                        nbb_cells[i].set_text(nbb_formatted_code);\n",
       "                        break;\n",
       "                    }\n",
       "                }\n",
       "            }, 500);\n",
       "            "
      ],
      "text/plain": [
       "<IPython.core.display.Javascript object>"
      ]
     },
     "metadata": {},
     "output_type": "display_data"
    }
   ],
   "source": [
    "train_vec_title = vectorize_pipeline.fit_transform(train_clean_title)\n",
    "train_vec_desc = vectorize_pipeline.transform(train_clean_desc)\n",
    "\n",
    "test_vec_title = vectorize_pipeline.transform(test_clean_title)\n",
    "test_vec_desc = vectorize_pipeline.transform(test_clean_desc)"
   ]
  },
  {
   "cell_type": "code",
   "execution_count": 31,
   "metadata": {},
   "outputs": [
    {
     "data": {
      "application/javascript": [
       "\n",
       "            setTimeout(function() {\n",
       "                var nbb_cell_id = 31;\n",
       "                var nbb_formatted_code = \"(text_train_desc, text_val_desc) = train_test_split(\\n    train_vec_desc, test_size=0.3, random_state=0\\n)\\n(text_train_title, text_val_title) = train_test_split(\\n    train_vec_title, test_size=0.3, random_state=0\\n)\\n(num_train, num_val) = train_test_split(X_train_num, test_size=0.3, random_state=0)\\n\\n(y_train, y_val) = train_test_split(y, test_size=0.3, random_state=0)\";\n",
       "                var nbb_cells = Jupyter.notebook.get_cells();\n",
       "                for (var i = 0; i < nbb_cells.length; ++i) {\n",
       "                    if (nbb_cells[i].input_prompt_number == nbb_cell_id) {\n",
       "                        nbb_cells[i].set_text(nbb_formatted_code);\n",
       "                        break;\n",
       "                    }\n",
       "                }\n",
       "            }, 500);\n",
       "            "
      ],
      "text/plain": [
       "<IPython.core.display.Javascript object>"
      ]
     },
     "metadata": {},
     "output_type": "display_data"
    }
   ],
   "source": [
    "(text_train_desc, text_val_desc) = train_test_split(\n",
    "    train_vec_desc, test_size=0.3, random_state=0\n",
    ")\n",
    "(text_train_title, text_val_title) = train_test_split(\n",
    "    train_vec_title, test_size=0.3, random_state=0\n",
    ")\n",
    "(num_train, num_val) = train_test_split(X_train_num, test_size=0.3, random_state=0)\n",
    "\n",
    "(y_train, y_val) = train_test_split(y, test_size=0.3, random_state=0)"
   ]
  },
  {
   "cell_type": "code",
   "execution_count": 32,
   "metadata": {},
   "outputs": [
    {
     "data": {
      "application/javascript": [
       "\n",
       "            setTimeout(function() {\n",
       "                var nbb_cell_id = 32;\n",
       "                var nbb_formatted_code = \"clean_text_train = sp.sparse.hstack((text_train_title, text_train_desc))\\nX_prepared_train = pre.normalize(\\n    sp.sparse.hstack((clean_text_train, csr_matrix(num_train)))\\n)\";\n",
       "                var nbb_cells = Jupyter.notebook.get_cells();\n",
       "                for (var i = 0; i < nbb_cells.length; ++i) {\n",
       "                    if (nbb_cells[i].input_prompt_number == nbb_cell_id) {\n",
       "                        nbb_cells[i].set_text(nbb_formatted_code);\n",
       "                        break;\n",
       "                    }\n",
       "                }\n",
       "            }, 500);\n",
       "            "
      ],
      "text/plain": [
       "<IPython.core.display.Javascript object>"
      ]
     },
     "metadata": {},
     "output_type": "display_data"
    }
   ],
   "source": [
    "clean_text_train = sp.sparse.hstack((text_train_title, text_train_desc))\n",
    "X_prepared_train = pre.normalize(\n",
    "    sp.sparse.hstack((clean_text_train, csr_matrix(num_train)))\n",
    ")"
   ]
  },
  {
   "cell_type": "code",
   "execution_count": 33,
   "metadata": {},
   "outputs": [
    {
     "data": {
      "application/javascript": [
       "\n",
       "            setTimeout(function() {\n",
       "                var nbb_cell_id = 33;\n",
       "                var nbb_formatted_code = \"clean_text_val = sp.sparse.hstack((text_val_title, text_val_desc))\\nX_prepared_val = pre.normalize(sp.sparse.hstack((clean_text_val, csr_matrix(num_val))))\";\n",
       "                var nbb_cells = Jupyter.notebook.get_cells();\n",
       "                for (var i = 0; i < nbb_cells.length; ++i) {\n",
       "                    if (nbb_cells[i].input_prompt_number == nbb_cell_id) {\n",
       "                        nbb_cells[i].set_text(nbb_formatted_code);\n",
       "                        break;\n",
       "                    }\n",
       "                }\n",
       "            }, 500);\n",
       "            "
      ],
      "text/plain": [
       "<IPython.core.display.Javascript object>"
      ]
     },
     "metadata": {},
     "output_type": "display_data"
    }
   ],
   "source": [
    "clean_text_val = sp.sparse.hstack((text_val_title, text_val_desc))\n",
    "X_prepared_val = pre.normalize(sp.sparse.hstack((clean_text_val, csr_matrix(num_val))))"
   ]
  },
  {
   "cell_type": "code",
   "execution_count": 34,
   "metadata": {},
   "outputs": [
    {
     "data": {
      "application/javascript": [
       "\n",
       "            setTimeout(function() {\n",
       "                var nbb_cell_id = 34;\n",
       "                var nbb_formatted_code = \"clean_text_test = sp.sparse.hstack((test_vec_title, test_vec_desc))\\nX_prepared_test = pre.normalize(\\n    sp.sparse.hstack((clean_text_test, csr_matrix(X_test_num)))\\n)\";\n",
       "                var nbb_cells = Jupyter.notebook.get_cells();\n",
       "                for (var i = 0; i < nbb_cells.length; ++i) {\n",
       "                    if (nbb_cells[i].input_prompt_number == nbb_cell_id) {\n",
       "                        nbb_cells[i].set_text(nbb_formatted_code);\n",
       "                        break;\n",
       "                    }\n",
       "                }\n",
       "            }, 500);\n",
       "            "
      ],
      "text/plain": [
       "<IPython.core.display.Javascript object>"
      ]
     },
     "metadata": {},
     "output_type": "display_data"
    }
   ],
   "source": [
    "clean_text_test = sp.sparse.hstack((test_vec_title, test_vec_desc))\n",
    "X_prepared_test = pre.normalize(\n",
    "    sp.sparse.hstack((clean_text_test, csr_matrix(X_test_num)))\n",
    ")"
   ]
  },
  {
   "cell_type": "code",
   "execution_count": 35,
   "metadata": {},
   "outputs": [
    {
     "name": "stdout",
     "output_type": "stream",
     "text": [
      "0.8892929127853135\n",
      "CPU times: user 1min 58s, sys: 1.6 s, total: 2min\n",
      "Wall time: 2min 5s\n"
     ]
    },
    {
     "data": {
      "application/javascript": [
       "\n",
       "            setTimeout(function() {\n",
       "                var nbb_cell_id = 35;\n",
       "                var nbb_formatted_code = \"%%time\\nclf = LinearSVC()\\nclf.fit(X_prepared_train, y_train)\\ny_pred = clf.predict(X_prepared_val)\\nprint(accuracy_score(y_val, y_pred))\";\n",
       "                var nbb_cells = Jupyter.notebook.get_cells();\n",
       "                for (var i = 0; i < nbb_cells.length; ++i) {\n",
       "                    if (nbb_cells[i].input_prompt_number == nbb_cell_id) {\n",
       "                        nbb_cells[i].set_text(nbb_formatted_code);\n",
       "                        break;\n",
       "                    }\n",
       "                }\n",
       "            }, 500);\n",
       "            "
      ],
      "text/plain": [
       "<IPython.core.display.Javascript object>"
      ]
     },
     "metadata": {},
     "output_type": "display_data"
    }
   ],
   "source": [
    "%%time\n",
    "clf = LinearSVC()\n",
    "clf.fit(X_prepared_train, y_train)\n",
    "y_pred = clf.predict(X_prepared_val)\n",
    "print(accuracy_score(y_val, y_pred))"
   ]
  },
  {
   "cell_type": "code",
   "execution_count": null,
   "metadata": {},
   "outputs": [],
   "source": []
  }
 ],
 "metadata": {
  "kernelspec": {
   "display_name": "Python 3",
   "language": "python",
   "name": "python3"
  },
  "language_info": {
   "codemirror_mode": {
    "name": "ipython",
    "version": 3
   },
   "file_extension": ".py",
   "mimetype": "text/x-python",
   "name": "python",
   "nbconvert_exporter": "python",
   "pygments_lexer": "ipython3",
   "version": "3.7.2"
  }
 },
 "nbformat": 4,
 "nbformat_minor": 2
}
